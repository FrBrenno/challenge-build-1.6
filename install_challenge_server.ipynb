{
 "cells": [
  {
   "cell_type": "code",
   "execution_count": 2,
   "id": "b1defc3f-ba30-4c55-993b-e4c2de280976",
   "metadata": {},
   "outputs": [
    {
     "name": "stdout",
     "output_type": "stream",
     "text": [
      "Requirement already satisfied: install-jdk in c:\\users\\brenn\\appdata\\local\\programs\\python\\python39\\lib\\site-packages (0.3.0)\n",
      "Note: you may need to restart the kernel to use updated packages.\n"
     ]
    }
   ],
   "source": [
    "%pip install install-jdk\n",
    "\n",
    "import jdk\n",
    "import os\n",
    "import json\n",
    "\n",
    "try:\n",
    "    jdk.uninstall('15', jre=True)\n",
    "except Exception:\n",
    "    pass\n",
    "\n",
    "jre_install_path = jdk.install('15', jre=True)"
   ]
  },
  {
   "cell_type": "code",
   "execution_count": 3,
   "id": "85429e8f-5631-4a92-8703-d0366ac99e08",
   "metadata": {},
   "outputs": [],
   "source": [
    "jre_path_dict = {'path': os.path.join(jre_install_path, 'bin', 'java')}\n",
    "\n",
    "with open('jre_path.json', 'w') as file:\n",
    "    json.dump(jre_path_dict, file)"
   ]
  },
  {
   "cell_type": "code",
   "execution_count": 4,
   "id": "2f6e70ed-e5a8-401d-b71e-cfa65993724d",
   "metadata": {},
   "outputs": [
    {
     "name": "stdout",
     "output_type": "stream",
     "text": [
      "C:\\Users\\brenn\\.jre\\jdk-15.0.2+7-jre\\bin\\java\n",
      "Sucessfully installed JVM\n"
     ]
    }
   ],
   "source": [
    "import subprocess\n",
    "\n",
    "jre_path_dict = None\n",
    "with open('jre_path.json', 'r') as file:\n",
    "    jre_path_dict = json.load(file)\n",
    "\n",
    "# Path to the java virtual machine executable, necessary to run the challenge server \n",
    "jvm_path = jre_path_dict['path']\n",
    "print(jvm_path)\n",
    "\n",
    "try:\n",
    "    process_result = subprocess.run([jvm_path, '--version'])\n",
    "    assert process_result.returncode == 0\n",
    "    print('Sucessfully installed JVM')\n",
    "except Exception:\n",
    "    print('Failed to install the JVM')"
   ]
  },
  {
   "cell_type": "code",
   "execution_count": null,
   "id": "1e39a1d6-89dd-4034-bff7-4971aa78a4fa",
   "metadata": {},
   "outputs": [],
   "source": []
  }
 ],
 "metadata": {
  "kernelspec": {
   "display_name": "Python 3 (ipykernel)",
   "language": "python",
   "name": "python3"
  },
  "language_info": {
   "codemirror_mode": {
    "name": "ipython",
    "version": 3
   },
   "file_extension": ".py",
   "mimetype": "text/x-python",
   "name": "python",
   "nbconvert_exporter": "python",
   "pygments_lexer": "ipython3",
   "version": "3.9.7"
  }
 },
 "nbformat": 4,
 "nbformat_minor": 5
}
